{
 "cells": [
  {
   "cell_type": "code",
   "execution_count": 1,
   "metadata": {},
   "outputs": [],
   "source": [
    "import pandas as pd\n",
    "import numpy as nb\n",
    "from sklearn.preprocessing import LabelEncoder"
   ]
  },
  {
   "cell_type": "code",
   "execution_count": 2,
   "metadata": {
    "_cell_guid": "79c7e3d0-c299-4dcb-8224-4455121ee9b0",
    "_uuid": "d629ff2d2480ee46fbb7e2d37f6b5fab8052498a",
    "execution": {
     "iopub.execute_input": "2020-10-15T11:52:38.357359Z",
     "iopub.status.busy": "2020-10-15T11:52:38.356648Z",
     "iopub.status.idle": "2020-10-15T11:52:38.365704Z",
     "shell.execute_reply": "2020-10-15T11:52:38.365140Z"
    },
    "papermill": {
     "duration": 0.033576,
     "end_time": "2020-10-15T11:52:38.365828",
     "exception": false,
     "start_time": "2020-10-15T11:52:38.332252",
     "status": "completed"
    },
    "tags": []
   },
   "outputs": [],
   "source": [
    "df=pd.read_csv('iris Flower - iris.csv')"
   ]
  },
  {
   "cell_type": "code",
   "execution_count": 3,
   "metadata": {
    "execution": {
     "iopub.execute_input": "2020-10-15T11:52:38.425146Z",
     "iopub.status.busy": "2020-10-15T11:52:38.422069Z",
     "iopub.status.idle": "2020-10-15T11:52:38.439241Z",
     "shell.execute_reply": "2020-10-15T11:52:38.438707Z"
    },
    "papermill": {
     "duration": 0.054573,
     "end_time": "2020-10-15T11:52:38.439353",
     "exception": false,
     "start_time": "2020-10-15T11:52:38.384780",
     "status": "completed"
    },
    "tags": []
   },
   "outputs": [
    {
     "data": {
      "text/html": [
       "<div>\n",
       "<style scoped>\n",
       "    .dataframe tbody tr th:only-of-type {\n",
       "        vertical-align: middle;\n",
       "    }\n",
       "\n",
       "    .dataframe tbody tr th {\n",
       "        vertical-align: top;\n",
       "    }\n",
       "\n",
       "    .dataframe thead th {\n",
       "        text-align: right;\n",
       "    }\n",
       "</style>\n",
       "<table border=\"1\" class=\"dataframe\">\n",
       "  <thead>\n",
       "    <tr style=\"text-align: right;\">\n",
       "      <th></th>\n",
       "      <th>Id</th>\n",
       "      <th>SepalLengthCm</th>\n",
       "      <th>SepalWidthCm</th>\n",
       "      <th>PetalLengthCm</th>\n",
       "      <th>PetalWidthCm</th>\n",
       "      <th>Species</th>\n",
       "    </tr>\n",
       "  </thead>\n",
       "  <tbody>\n",
       "    <tr>\n",
       "      <th>0</th>\n",
       "      <td>1</td>\n",
       "      <td>5.1</td>\n",
       "      <td>3.5</td>\n",
       "      <td>1.4</td>\n",
       "      <td>0.2</td>\n",
       "      <td>Iris-setosa</td>\n",
       "    </tr>\n",
       "    <tr>\n",
       "      <th>1</th>\n",
       "      <td>2</td>\n",
       "      <td>4.9</td>\n",
       "      <td>3.0</td>\n",
       "      <td>1.4</td>\n",
       "      <td>0.2</td>\n",
       "      <td>Iris-setosa</td>\n",
       "    </tr>\n",
       "    <tr>\n",
       "      <th>2</th>\n",
       "      <td>3</td>\n",
       "      <td>4.7</td>\n",
       "      <td>3.2</td>\n",
       "      <td>1.3</td>\n",
       "      <td>0.2</td>\n",
       "      <td>Iris-setosa</td>\n",
       "    </tr>\n",
       "    <tr>\n",
       "      <th>3</th>\n",
       "      <td>4</td>\n",
       "      <td>4.6</td>\n",
       "      <td>3.1</td>\n",
       "      <td>1.5</td>\n",
       "      <td>0.2</td>\n",
       "      <td>Iris-setosa</td>\n",
       "    </tr>\n",
       "    <tr>\n",
       "      <th>4</th>\n",
       "      <td>5</td>\n",
       "      <td>5.0</td>\n",
       "      <td>3.6</td>\n",
       "      <td>1.4</td>\n",
       "      <td>0.2</td>\n",
       "      <td>Iris-setosa</td>\n",
       "    </tr>\n",
       "    <tr>\n",
       "      <th>...</th>\n",
       "      <td>...</td>\n",
       "      <td>...</td>\n",
       "      <td>...</td>\n",
       "      <td>...</td>\n",
       "      <td>...</td>\n",
       "      <td>...</td>\n",
       "    </tr>\n",
       "    <tr>\n",
       "      <th>145</th>\n",
       "      <td>146</td>\n",
       "      <td>6.7</td>\n",
       "      <td>3.0</td>\n",
       "      <td>5.2</td>\n",
       "      <td>2.3</td>\n",
       "      <td>Iris-virginica</td>\n",
       "    </tr>\n",
       "    <tr>\n",
       "      <th>146</th>\n",
       "      <td>147</td>\n",
       "      <td>6.3</td>\n",
       "      <td>2.5</td>\n",
       "      <td>5.0</td>\n",
       "      <td>1.9</td>\n",
       "      <td>Iris-virginica</td>\n",
       "    </tr>\n",
       "    <tr>\n",
       "      <th>147</th>\n",
       "      <td>148</td>\n",
       "      <td>6.5</td>\n",
       "      <td>3.0</td>\n",
       "      <td>5.2</td>\n",
       "      <td>2.0</td>\n",
       "      <td>Iris-virginica</td>\n",
       "    </tr>\n",
       "    <tr>\n",
       "      <th>148</th>\n",
       "      <td>149</td>\n",
       "      <td>6.2</td>\n",
       "      <td>3.4</td>\n",
       "      <td>5.4</td>\n",
       "      <td>2.3</td>\n",
       "      <td>Iris-virginica</td>\n",
       "    </tr>\n",
       "    <tr>\n",
       "      <th>149</th>\n",
       "      <td>150</td>\n",
       "      <td>5.9</td>\n",
       "      <td>3.0</td>\n",
       "      <td>5.1</td>\n",
       "      <td>1.8</td>\n",
       "      <td>Iris-virginica</td>\n",
       "    </tr>\n",
       "  </tbody>\n",
       "</table>\n",
       "<p>150 rows × 6 columns</p>\n",
       "</div>"
      ],
      "text/plain": [
       "      Id  SepalLengthCm  SepalWidthCm  PetalLengthCm  PetalWidthCm  \\\n",
       "0      1            5.1           3.5            1.4           0.2   \n",
       "1      2            4.9           3.0            1.4           0.2   \n",
       "2      3            4.7           3.2            1.3           0.2   \n",
       "3      4            4.6           3.1            1.5           0.2   \n",
       "4      5            5.0           3.6            1.4           0.2   \n",
       "..   ...            ...           ...            ...           ...   \n",
       "145  146            6.7           3.0            5.2           2.3   \n",
       "146  147            6.3           2.5            5.0           1.9   \n",
       "147  148            6.5           3.0            5.2           2.0   \n",
       "148  149            6.2           3.4            5.4           2.3   \n",
       "149  150            5.9           3.0            5.1           1.8   \n",
       "\n",
       "            Species  \n",
       "0       Iris-setosa  \n",
       "1       Iris-setosa  \n",
       "2       Iris-setosa  \n",
       "3       Iris-setosa  \n",
       "4       Iris-setosa  \n",
       "..              ...  \n",
       "145  Iris-virginica  \n",
       "146  Iris-virginica  \n",
       "147  Iris-virginica  \n",
       "148  Iris-virginica  \n",
       "149  Iris-virginica  \n",
       "\n",
       "[150 rows x 6 columns]"
      ]
     },
     "execution_count": 3,
     "metadata": {},
     "output_type": "execute_result"
    }
   ],
   "source": [
    "df"
   ]
  },
  {
   "cell_type": "code",
   "execution_count": 4,
   "metadata": {
    "execution": {
     "iopub.execute_input": "2020-10-15T11:52:38.494094Z",
     "iopub.status.busy": "2020-10-15T11:52:38.493265Z",
     "iopub.status.idle": "2020-10-15T11:52:38.496454Z",
     "shell.execute_reply": "2020-10-15T11:52:38.497256Z"
    },
    "papermill": {
     "duration": 0.03788,
     "end_time": "2020-10-15T11:52:38.497429",
     "exception": false,
     "start_time": "2020-10-15T11:52:38.459549",
     "status": "completed"
    },
    "tags": []
   },
   "outputs": [
    {
     "name": "stdout",
     "output_type": "stream",
     "text": [
      "<class 'pandas.core.frame.DataFrame'>\n",
      "RangeIndex: 150 entries, 0 to 149\n",
      "Data columns (total 6 columns):\n",
      " #   Column         Non-Null Count  Dtype  \n",
      "---  ------         --------------  -----  \n",
      " 0   Id             150 non-null    int64  \n",
      " 1   SepalLengthCm  150 non-null    float64\n",
      " 2   SepalWidthCm   150 non-null    float64\n",
      " 3   PetalLengthCm  150 non-null    float64\n",
      " 4   PetalWidthCm   150 non-null    float64\n",
      " 5   Species        150 non-null    object \n",
      "dtypes: float64(4), int64(1), object(1)\n",
      "memory usage: 7.2+ KB\n"
     ]
    }
   ],
   "source": [
    "df.info()"
   ]
  },
  {
   "cell_type": "code",
   "execution_count": 5,
   "metadata": {
    "execution": {
     "iopub.execute_input": "2020-10-15T11:52:38.545402Z",
     "iopub.status.busy": "2020-10-15T11:52:38.544394Z",
     "iopub.status.idle": "2020-10-15T11:52:38.549882Z",
     "shell.execute_reply": "2020-10-15T11:52:38.549254Z"
    },
    "papermill": {
     "duration": 0.032257,
     "end_time": "2020-10-15T11:52:38.549995",
     "exception": false,
     "start_time": "2020-10-15T11:52:38.517738",
     "status": "completed"
    },
    "tags": []
   },
   "outputs": [
    {
     "data": {
      "text/plain": [
       "Id               0\n",
       "SepalLengthCm    0\n",
       "SepalWidthCm     0\n",
       "PetalLengthCm    0\n",
       "PetalWidthCm     0\n",
       "Species          0\n",
       "dtype: int64"
      ]
     },
     "execution_count": 5,
     "metadata": {},
     "output_type": "execute_result"
    }
   ],
   "source": [
    "df.isnull().sum()"
   ]
  },
  {
   "cell_type": "code",
   "execution_count": 6,
   "metadata": {
    "execution": {
     "iopub.execute_input": "2020-10-15T11:52:38.596829Z",
     "iopub.status.busy": "2020-10-15T11:52:38.596128Z",
     "iopub.status.idle": "2020-10-15T11:52:39.653796Z",
     "shell.execute_reply": "2020-10-15T11:52:39.653051Z"
    },
    "papermill": {
     "duration": 1.082531,
     "end_time": "2020-10-15T11:52:39.653925",
     "exception": false,
     "start_time": "2020-10-15T11:52:38.571394",
     "status": "completed"
    },
    "tags": []
   },
   "outputs": [],
   "source": [
    "import matplotlib.pyplot as plt\n",
    "import seaborn as sns"
   ]
  },
  {
   "cell_type": "code",
   "execution_count": 7,
   "metadata": {
    "execution": {
     "iopub.execute_input": "2020-10-15T11:52:39.700106Z",
     "iopub.status.busy": "2020-10-15T11:52:39.699394Z",
     "iopub.status.idle": "2020-10-15T11:52:39.872901Z",
     "shell.execute_reply": "2020-10-15T11:52:39.872240Z"
    },
    "papermill": {
     "duration": 0.19846,
     "end_time": "2020-10-15T11:52:39.873019",
     "exception": false,
     "start_time": "2020-10-15T11:52:39.674559",
     "status": "completed"
    },
    "tags": []
   },
   "outputs": [
    {
     "data": {
      "text/plain": [
       "<Axes: xlabel='Species', ylabel='count'>"
      ]
     },
     "execution_count": 7,
     "metadata": {},
     "output_type": "execute_result"
    },
    {
     "data": {
      "image/png": "[encoded data removed]",
      "text/plain": [
       "<Figure size 1200x500 with 1 Axes>"
      ]
     },
     "metadata": {},
     "output_type": "display_data"
    }
   ],
   "source": [
    "plt.figure(figsize=(12,5))\n",
    "sns.countplot(x ='Species', data = df)"
   ]
  },
  {
   "cell_type": "code",
   "execution_count": 8,
   "metadata": {
    "execution": {
     "iopub.execute_input": "2020-10-15T11:52:39.931251Z",
     "iopub.status.busy": "2020-10-15T11:52:39.930197Z",
     "iopub.status.idle": "2020-10-15T11:52:39.933300Z",
     "shell.execute_reply": "2020-10-15T11:52:39.932708Z"
    },
    "papermill": {
     "duration": 0.029969,
     "end_time": "2020-10-15T11:52:39.933445",
     "exception": false,
     "start_time": "2020-10-15T11:52:39.903476",
     "status": "completed"
    },
    "tags": []
   },
   "outputs": [],
   "source": [
    "#all thr three classes are balanced "
   ]
  },
  {
   "cell_type": "code",
   "execution_count": 9,
   "metadata": {
    "execution": {
     "iopub.execute_input": "2020-10-15T11:52:39.993734Z",
     "iopub.status.busy": "2020-10-15T11:52:39.988758Z",
     "iopub.status.idle": "2020-10-15T11:52:40.246080Z",
     "shell.execute_reply": "2020-10-15T11:52:40.246602Z"
    },
    "papermill": {
     "duration": 0.291544,
     "end_time": "2020-10-15T11:52:40.246761",
     "exception": false,
     "start_time": "2020-10-15T11:52:39.955217",
     "status": "completed"
    },
    "tags": []
   },
   "outputs": [
    {
     "data": {
      "text/plain": [
       "<Axes: xlabel='SepalLengthCm', ylabel='SepalWidthCm'>"
      ]
     },
     "execution_count": 9,
     "metadata": {},
     "output_type": "execute_result"
    },
    {
     "data": {
      "image/png": "[encoded data removed]",
      "text/plain": [
       "<Figure size 1200x500 with 1 Axes>"
      ]
     },
     "metadata": {},
     "output_type": "display_data"
    }
   ],
   "source": [
    "plt.figure(figsize=(12,5))\n",
    "sns.scatterplot(x=df['SepalLengthCm'],hue=df['Species'],y=df['SepalWidthCm'],data=df)\n",
    "#lets plot some barplot for more clear cut information"
   ]
  },
  {
   "cell_type": "code",
   "execution_count": 10,
   "metadata": {
    "execution": {
     "iopub.execute_input": "2020-10-15T11:52:40.310273Z",
     "iopub.status.busy": "2020-10-15T11:52:40.309272Z",
     "iopub.status.idle": "2020-10-15T11:52:40.508017Z",
     "shell.execute_reply": "2020-10-15T11:52:40.508533Z"
    },
    "papermill": {
     "duration": 0.237693,
     "end_time": "2020-10-15T11:52:40.508700",
     "exception": false,
     "start_time": "2020-10-15T11:52:40.271007",
     "status": "completed"
    },
    "tags": []
   },
   "outputs": [
    {
     "data": {
      "text/plain": [
       "<Axes: xlabel='Species', ylabel='SepalLengthCm'>"
      ]
     },
     "execution_count": 10,
     "metadata": {},
     "output_type": "execute_result"
    },
    {
     "data": {
      "image/png": "[encoded data removed]",
      "text/plain": [
       "<Figure size 1200x500 with 1 Axes>"
      ]
     },
     "metadata": {},
     "output_type": "display_data"
    }
   ],
   "source": [
    "plt.figure(2,figsize=(12,5))\n",
    "sns.barplot(x=df['Species'],y=df['SepalLengthCm'],data=df)"
   ]
  },
  {
   "cell_type": "code",
   "execution_count": 11,
   "metadata": {
    "execution": {
     "iopub.execute_input": "2020-10-15T11:52:40.563234Z",
     "iopub.status.busy": "2020-10-15T11:52:40.562262Z",
     "iopub.status.idle": "2020-10-15T11:52:40.565000Z",
     "shell.execute_reply": "2020-10-15T11:52:40.565510Z"
    },
    "papermill": {
     "duration": 0.032472,
     "end_time": "2020-10-15T11:52:40.565669",
     "exception": false,
     "start_time": "2020-10-15T11:52:40.533197",
     "status": "completed"
    },
    "tags": []
   },
   "outputs": [],
   "source": [
    "#it is clear from the above figure that setosa has the shorter sepal lenght and virginica has longer"
   ]
  },
  {
   "cell_type": "code",
   "execution_count": 12,
   "metadata": {
    "execution": {
     "iopub.execute_input": "2020-10-15T11:52:40.631492Z",
     "iopub.status.busy": "2020-10-15T11:52:40.623990Z",
     "iopub.status.idle": "2020-10-15T11:52:40.827188Z",
     "shell.execute_reply": "2020-10-15T11:52:40.826654Z"
    },
    "papermill": {
     "duration": 0.237128,
     "end_time": "2020-10-15T11:52:40.827314",
     "exception": false,
     "start_time": "2020-10-15T11:52:40.590186",
     "status": "completed"
    },
    "tags": []
   },
   "outputs": [
    {
     "data": {
      "text/plain": [
       "<Axes: xlabel='Species', ylabel='SepalWidthCm'>"
      ]
     },
     "execution_count": 12,
     "metadata": {},
     "output_type": "execute_result"
    },
    {
     "data": {
      "image/png": "[encoded data removed]",
      "text/plain": [
       "<Figure size 1200x500 with 1 Axes>"
      ]
     },
     "metadata": {},
     "output_type": "display_data"
    }
   ],
   "source": [
    "#similarly we can plot for the sepal width\n",
    "plt.figure(figsize=(12,5))\n",
    "sns.barplot(x=df['Species'],y=df['SepalWidthCm'],data=df)"
   ]
  },
  {
   "cell_type": "code",
   "execution_count": 13,
   "metadata": {
    "execution": {
     "iopub.execute_input": "2020-10-15T11:52:40.882380Z",
     "iopub.status.busy": "2020-10-15T11:52:40.881521Z",
     "iopub.status.idle": "2020-10-15T11:52:40.884601Z",
     "shell.execute_reply": "2020-10-15T11:52:40.884047Z"
    },
    "papermill": {
     "duration": 0.032442,
     "end_time": "2020-10-15T11:52:40.884715",
     "exception": false,
     "start_time": "2020-10-15T11:52:40.852273",
     "status": "completed"
    },
    "tags": []
   },
   "outputs": [],
   "source": [
    "#here we can seee that setosa has the highest sepal with and versicolor has lower"
   ]
  },
  {
   "cell_type": "code",
   "execution_count": 14,
   "metadata": {
    "execution": {
     "iopub.execute_input": "2020-10-15T11:52:40.954003Z",
     "iopub.status.busy": "2020-10-15T11:52:40.945928Z",
     "iopub.status.idle": "2020-10-15T11:52:41.162202Z",
     "shell.execute_reply": "2020-10-15T11:52:41.162853Z"
    },
    "papermill": {
     "duration": 0.250657,
     "end_time": "2020-10-15T11:52:41.163015",
     "exception": false,
     "start_time": "2020-10-15T11:52:40.912358",
     "status": "completed"
    },
    "tags": []
   },
   "outputs": [
    {
     "data": {
      "text/plain": [
       "<Axes: xlabel='Species', ylabel='PetalLengthCm'>"
      ]
     },
     "execution_count": 14,
     "metadata": {},
     "output_type": "execute_result"
    },
    {
     "data": {
      "image/png": "[encoded data removed]",
      "text/plain": [
       "<Figure size 1200x500 with 1 Axes>"
      ]
     },
     "metadata": {},
     "output_type": "display_data"
    }
   ],
   "source": [
    "plt.figure(figsize=(12,5))\n",
    "sns.barplot(x=df['Species'],y=df['PetalLengthCm'],data=df)"
   ]
  },
  {
   "cell_type": "code",
   "execution_count": 15,
   "metadata": {
    "execution": {
     "iopub.execute_input": "2020-10-15T11:52:41.221055Z",
     "iopub.status.busy": "2020-10-15T11:52:41.220050Z",
     "iopub.status.idle": "2020-10-15T11:52:41.223431Z",
     "shell.execute_reply": "2020-10-15T11:52:41.222786Z"
    },
    "papermill": {
     "duration": 0.03397,
     "end_time": "2020-10-15T11:52:41.223568",
     "exception": false,
     "start_time": "2020-10-15T11:52:41.189598",
     "status": "completed"
    },
    "tags": []
   },
   "outputs": [],
   "source": [
    "#virginica corresponds to higher petal length and setosa has smaallest among all"
   ]
  },
  {
   "cell_type": "code",
   "execution_count": 16,
   "metadata": {
    "execution": {
     "iopub.execute_input": "2020-10-15T11:52:41.292364Z",
     "iopub.status.busy": "2020-10-15T11:52:41.291364Z",
     "iopub.status.idle": "2020-10-15T11:52:41.499498Z",
     "shell.execute_reply": "2020-10-15T11:52:41.498830Z"
    },
    "papermill": {
     "duration": 0.249652,
     "end_time": "2020-10-15T11:52:41.499617",
     "exception": false,
     "start_time": "2020-10-15T11:52:41.249965",
     "status": "completed"
    },
    "tags": []
   },
   "outputs": [
    {
     "data": {
      "text/plain": [
       "<Axes: xlabel='Species', ylabel='PetalWidthCm'>"
      ]
     },
     "execution_count": 16,
     "metadata": {},
     "output_type": "execute_result"
    },
    {
     "data": {
      "image/png": "[encoded data removed]",
      "text/plain": [
       "<Figure size 1200x500 with 1 Axes>"
      ]
     },
     "metadata": {},
     "output_type": "display_data"
    }
   ],
   "source": [
    "plt.figure(figsize=(12,5))\n",
    "sns.barplot(x=df['Species'],y=df['PetalWidthCm'],data=df)"
   ]
  },
  {
   "cell_type": "code",
   "execution_count": 17,
   "metadata": {
    "execution": {
     "iopub.execute_input": "2020-10-15T11:52:43.269122Z",
     "iopub.status.busy": "2020-10-15T11:52:43.268305Z",
     "iopub.status.idle": "2020-10-15T11:52:43.466619Z",
     "shell.execute_reply": "2020-10-15T11:52:43.465988Z"
    },
    "papermill": {
     "duration": 0.243882,
     "end_time": "2020-10-15T11:52:43.466737",
     "exception": false,
     "start_time": "2020-10-15T11:52:43.222855",
     "status": "completed"
    },
    "tags": []
   },
   "outputs": [
    {
     "data": {
      "text/plain": [
       "<Axes: >"
      ]
     },
     "execution_count": 17,
     "metadata": {},
     "output_type": "execute_result"
    },
    {
     "data": {
      "image/png": "[encoded data removed]",
      "text/plain": [
       "<Figure size 1200x500 with 2 Axes>"
      ]
     },
     "metadata": {},
     "output_type": "display_data"
    }
   ],
   "source": [
    "plt.figure(figsize=(12,5))\n",
    "sns.heatmap(df.corr(numeric_only=True))"
   ]
  },
  {
   "cell_type": "code",
   "execution_count": 18,
   "metadata": {
    "execution": {
     "iopub.execute_input": "2020-10-15T11:52:43.616774Z",
     "iopub.status.busy": "2020-10-15T11:52:43.615942Z",
     "iopub.status.idle": "2020-10-15T11:52:43.680269Z",
     "shell.execute_reply": "2020-10-15T11:52:43.679563Z"
    },
    "papermill": {
     "duration": 0.104089,
     "end_time": "2020-10-15T11:52:43.680386",
     "exception": false,
     "start_time": "2020-10-15T11:52:43.576297",
     "status": "completed"
    },
    "tags": []
   },
   "outputs": [],
   "source": [
    "#lets first convert the categorical data into integer target values\n",
    "from sklearn.preprocessing import LabelEncoder\n",
    "le=LabelEncoder()\n",
    "df['Species']=le.fit_transform(df['Species'])"
   ]
  },
  {
   "cell_type": "code",
   "execution_count": 19,
   "metadata": {
    "execution": {
     "iopub.execute_input": "2020-10-15T11:52:43.749056Z",
     "iopub.status.busy": "2020-10-15T11:52:43.748230Z",
     "iopub.status.idle": "2020-10-15T11:52:43.751348Z",
     "shell.execute_reply": "2020-10-15T11:52:43.750750Z"
    },
    "papermill": {
     "duration": 0.039223,
     "end_time": "2020-10-15T11:52:43.751482",
     "exception": false,
     "start_time": "2020-10-15T11:52:43.712259",
     "status": "completed"
    },
    "tags": []
   },
   "outputs": [],
   "source": [
    "#lets separate the data into dependent and independent variables"
   ]
  },
  {
   "cell_type": "code",
   "execution_count": 20,
   "metadata": {
    "execution": {
     "iopub.execute_input": "2020-10-15T11:52:43.820674Z",
     "iopub.status.busy": "2020-10-15T11:52:43.819882Z",
     "iopub.status.idle": "2020-10-15T11:52:43.822750Z",
     "shell.execute_reply": "2020-10-15T11:52:43.823284Z"
    },
    "papermill": {
     "duration": 0.039751,
     "end_time": "2020-10-15T11:52:43.823452",
     "exception": false,
     "start_time": "2020-10-15T11:52:43.783701",
     "status": "completed"
    },
    "tags": []
   },
   "outputs": [],
   "source": [
    "#dependent variable\n",
    "y=df['Species']"
   ]
  },
  {
   "cell_type": "code",
   "execution_count": 21,
   "metadata": {
    "execution": {
     "iopub.execute_input": "2020-10-15T11:52:43.893721Z",
     "iopub.status.busy": "2020-10-15T11:52:43.892765Z",
     "iopub.status.idle": "2020-10-15T11:52:43.895550Z",
     "shell.execute_reply": "2020-10-15T11:52:43.896063Z"
    },
    "papermill": {
     "duration": 0.040932,
     "end_time": "2020-10-15T11:52:43.896220",
     "exception": false,
     "start_time": "2020-10-15T11:52:43.855288",
     "status": "completed"
    },
    "tags": []
   },
   "outputs": [],
   "source": [
    "#independent variable\n",
    "x=df.drop(['Species'],axis=1)"
   ]
  },
  {
   "cell_type": "code",
   "execution_count": 22,
   "metadata": {
    "execution": {
     "iopub.execute_input": "2020-10-15T11:52:43.971276Z",
     "iopub.status.busy": "2020-10-15T11:52:43.970589Z",
     "iopub.status.idle": "2020-10-15T11:52:43.973150Z",
     "shell.execute_reply": "2020-10-15T11:52:43.973744Z"
    },
    "papermill": {
     "duration": 0.039708,
     "end_time": "2020-10-15T11:52:43.973904",
     "exception": false,
     "start_time": "2020-10-15T11:52:43.934196",
     "status": "completed"
    },
    "tags": []
   },
   "outputs": [],
   "source": [
    "#split the data into train and test data"
   ]
  },
  {
   "cell_type": "code",
   "execution_count": 23,
   "metadata": {
    "execution": {
     "iopub.execute_input": "2020-10-15T11:52:44.045431Z",
     "iopub.status.busy": "2020-10-15T11:52:44.044625Z",
     "iopub.status.idle": "2020-10-15T11:52:44.102958Z",
     "shell.execute_reply": "2020-10-15T11:52:44.101978Z"
    },
    "papermill": {
     "duration": 0.096023,
     "end_time": "2020-10-15T11:52:44.103139",
     "exception": false,
     "start_time": "2020-10-15T11:52:44.007116",
     "status": "completed"
    },
    "tags": []
   },
   "outputs": [],
   "source": [
    "from sklearn.model_selection import train_test_split\n",
    "x_train,x_test,y_train,y_test=train_test_split(x,y,random_state=0,test_size=0.2)"
   ]
  },
  {
   "cell_type": "markdown",
   "metadata": {},
   "source": [
    "## LogisticRegression"
   ]
  },
  {
   "cell_type": "code",
   "execution_count": 24,
   "metadata": {
    "execution": {
     "iopub.execute_input": "2020-10-15T11:52:44.176779Z",
     "iopub.status.busy": "2020-10-15T11:52:44.175826Z",
     "iopub.status.idle": "2020-10-15T11:52:44.307684Z",
     "shell.execute_reply": "2020-10-15T11:52:44.307045Z"
    },
    "papermill": {
     "duration": 0.170709,
     "end_time": "2020-10-15T11:52:44.307801",
     "exception": false,
     "start_time": "2020-10-15T11:52:44.137092",
     "status": "completed"
    },
    "tags": []
   },
   "outputs": [],
   "source": [
    "from sklearn.linear_model import LogisticRegression\n",
    "from sklearn.metrics import accuracy_score\n",
    "from sklearn.metrics import mean_squared_error\n",
    "\n",
    "lr=LogisticRegression(max_iter=10000)\n",
    "lr.fit(x_train,y_train)\n",
    "pred_1=lr.predict(x_test)\n",
    "score_1=accuracy_score(y_test,pred_1)\n"
   ]
  },
  {
   "cell_type": "code",
   "execution_count": 25,
   "metadata": {},
   "outputs": [
    {
     "data": {
      "text/plain": [
       "1.0"
      ]
     },
     "execution_count": 25,
     "metadata": {},
     "output_type": "execute_result"
    }
   ],
   "source": [
    "score_1"
   ]
  },
  {
   "cell_type": "markdown",
   "metadata": {},
   "source": [
    "## Support Vector Machine (SVM)"
   ]
  },
  {
   "cell_type": "code",
   "execution_count": 26,
   "metadata": {
    "execution": {
     "iopub.execute_input": "2020-10-15T11:52:53.981932Z",
     "iopub.status.busy": "2020-10-15T11:52:53.981223Z",
     "iopub.status.idle": "2020-10-15T11:52:53.987793Z",
     "shell.execute_reply": "2020-10-15T11:52:53.987223Z"
    },
    "papermill": {
     "duration": 0.049606,
     "end_time": "2020-10-15T11:52:53.987908",
     "exception": false,
     "start_time": "2020-10-15T11:52:53.938302",
     "status": "completed"
    },
    "tags": []
   },
   "outputs": [],
   "source": [
    "from sklearn.svm import SVC\n",
    "svm=SVC()\n",
    "svm.fit(x_train,y_train)\n",
    "pred_2=svm.predict(x_test)\n",
    "score_2=accuracy_score(y_test,pred_2)"
   ]
  },
  {
   "cell_type": "code",
   "execution_count": 27,
   "metadata": {
    "execution": {
     "iopub.execute_input": "2020-10-15T11:52:54.064135Z",
     "iopub.status.busy": "2020-10-15T11:52:54.063401Z",
     "iopub.status.idle": "2020-10-15T11:52:54.067995Z",
     "shell.execute_reply": "2020-10-15T11:52:54.067347Z"
    },
    "papermill": {
     "duration": 0.044786,
     "end_time": "2020-10-15T11:52:54.068109",
     "exception": false,
     "start_time": "2020-10-15T11:52:54.023323",
     "status": "completed"
    },
    "tags": []
   },
   "outputs": [
    {
     "data": {
      "text/plain": [
       "1.0"
      ]
     },
     "execution_count": 27,
     "metadata": {},
     "output_type": "execute_result"
    }
   ],
   "source": [
    "score_2"
   ]
  }
 ],
 "metadata": {
  "kernelspec": {
   "display_name": "Python 3",
   "language": "python",
   "name": "python3"
  },
  "language_info": {
   "codemirror_mode": {
    "name": "ipython",
    "version": 3
   },
   "file_extension": ".py",
   "mimetype": "text/x-python",
   "name": "python",
   "nbconvert_exporter": "python",
   "pygments_lexer": "ipython3",
   "version": "3.11.5"
  },
  "papermill": {
   "duration": 20.592631,
   "end_time": "2020-10-15T11:52:54.212661",
   "environment_variables": {},
   "exception": null,
   "input_path": "__notebook__.ipynb",
   "output_path": "__notebook__.ipynb",
   "parameters": {},
   "start_time": "2020-10-15T11:52:33.620030",
   "version": "2.1.0"
  }
 },
 "nbformat": 4,
 "nbformat_minor": 4
}
